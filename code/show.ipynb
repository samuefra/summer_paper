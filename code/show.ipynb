{
 "cells": [
  {
   "cell_type": "code",
   "execution_count": 5,
   "metadata": {},
   "outputs": [],
   "source": [
    "# pacotes\n",
    "import numpy as np\n",
    "import pandas as pd"
   ]
  },
  {
   "cell_type": "code",
   "execution_count": 6,
   "metadata": {},
   "outputs": [],
   "source": [
    "# oculta mensagens de avisos\n",
    "import warnings\n",
    "warnings.filterwarnings(\"ignore\")"
   ]
  },
  {
   "cell_type": "code",
   "execution_count": 7,
   "metadata": {},
   "outputs": [],
   "source": [
    "# pd.set_option('display.max_columns', None)"
   ]
  },
  {
   "cell_type": "code",
   "execution_count": 8,
   "metadata": {},
   "outputs": [],
   "source": [
    "# pd.set_option('display.max_rows', None)"
   ]
  },
  {
   "cell_type": "code",
   "execution_count": 9,
   "metadata": {},
   "outputs": [],
   "source": [
    "day = '20050103'"
   ]
  },
  {
   "cell_type": "code",
   "execution_count": 11,
   "metadata": {},
   "outputs": [],
   "source": [
    "# factors dataframe\n",
    "factors_path = f'../input/factors/{day}.csv'\n",
    "factors = pd.read_csv(factors_path, index_col=0)\n",
    "# precisamos dropar todas ações que não tem TAQ_TICKER, pois é a única variável q conseguimos ligar na outra base\n",
    "factors = factors[factors['TAQ_TICKER'] != '<undefined>']\n",
    "# precisamos arrumar os valores das colunas de market cap (torná-los todos positivos)\n",
    "factors['MARKETCAP'] = factors['MARKETCAP'].abs()"
   ]
  },
  {
   "cell_type": "code",
   "execution_count": 12,
   "metadata": {},
   "outputs": [],
   "source": [
    "# returns dataframe\n",
    "returns_path = f'../input/returns/{day}.csv'\n",
    "returns = pd.read_csv(returns_path, index_col=0)"
   ]
  },
  {
   "cell_type": "code",
   "execution_count": 13,
   "metadata": {},
   "outputs": [],
   "source": [
    "col = 'pNYSE_size'"
   ]
  },
  {
   "cell_type": "code",
   "execution_count": 14,
   "metadata": {},
   "outputs": [],
   "source": [
    "long_position = []      # posição comprado\n",
    "short_position = []     # posição vendido  \n",
    "\n",
    "# primeiro, precisamos dropar as linhas tais que tem valor NaN no parâmetro de localidade do fator\n",
    "temp = factors[factors[col].notna()]\n",
    "\"\"\"\n",
    "Criamos um loop com o critério:\n",
    "tercil de cima: '7' estritamente ('8' fracamente), então o portfolio assume a posição comprado\n",
    "tercil de baixo: '4' estritamente ('3' fracamente), então o portfolio assume a posição vendido\n",
    "\"\"\"\n",
    "for permno in temp.index:\n",
    "    if temp.loc[permno][col] >= 8:\n",
    "        long_position.append(temp.loc[permno]['TAQ_TICKER'])\n",
    "    elif temp.loc[permno][col] <= 3:\n",
    "        short_position.append(temp.loc[permno]['TAQ_TICKER'])"
   ]
  },
  {
   "cell_type": "code",
   "execution_count": 16,
   "metadata": {},
   "outputs": [],
   "source": [
    "drop_long_position = []\n",
    "drop_short_position = []\n",
    "\n",
    "for ticker in long_position:\n",
    "    if ticker not in returns.columns:\n",
    "        drop_long_position.append(ticker)\n",
    "\n",
    "for ticker in drop_long_position:\n",
    "    long_position.remove(ticker)\n",
    "\n",
    "for ticker in short_position:   \n",
    "    if ticker not in returns.columns:\n",
    "        drop_short_position.append(ticker)\n",
    "\n",
    "for ticker in drop_short_position:\n",
    "    short_position.remove(ticker)"
   ]
  },
  {
   "cell_type": "code",
   "execution_count": 17,
   "metadata": {},
   "outputs": [
    {
     "data": {
      "text/plain": [
       "2960"
      ]
     },
     "execution_count": 17,
     "metadata": {},
     "output_type": "execute_result"
    }
   ],
   "source": [
    "len(long_position)"
   ]
  },
  {
   "cell_type": "code",
   "execution_count": 18,
   "metadata": {},
   "outputs": [
    {
     "data": {
      "text/plain": [
       "526"
      ]
     },
     "execution_count": 18,
     "metadata": {},
     "output_type": "execute_result"
    }
   ],
   "source": [
    "len(short_position)"
   ]
  },
  {
   "cell_type": "code",
   "execution_count": 19,
   "metadata": {},
   "outputs": [],
   "source": [
    "# marketcap das ações em posição comprado\n",
    "marketcap_long_position = list(factors[factors['TAQ_TICKER'].isin(long_position)]['MARKETCAP'].values)\n",
    "\n",
    "# marketcap das ações em posição vendido\n",
    "marketcap_short_position = list(factors[factors['TAQ_TICKER'].isin(short_position)]['MARKETCAP'].values)\n",
    "\n",
    "# soma dos marketcaps das ações em posição comprado\n",
    "sum_marketcap_long_position = sum(marketcap_long_position)\n",
    "\n",
    "# soma dos marketcaps das ações em posição vendido\n",
    "sum_marketcap_short_position = sum(marketcap_short_position)\n",
    "\n",
    "# value weight das ações em posição comprado\n",
    "weight_long_position = marketcap_long_position/sum_marketcap_long_position\n",
    "\n",
    "# value weight das ações em posição vendido\n",
    "weight_short_position = marketcap_short_position/sum_marketcap_short_position"
   ]
  },
  {
   "cell_type": "code",
   "execution_count": 20,
   "metadata": {},
   "outputs": [
    {
     "data": {
      "text/plain": [
       "Time\n",
       "93100    -0.000659\n",
       "93200    -0.000510\n",
       "93300     0.000372\n",
       "93400     0.000209\n",
       "93500    -0.000520\n",
       "            ...   \n",
       "155600    0.000029\n",
       "155700   -0.000278\n",
       "155800   -0.000088\n",
       "155900    0.000058\n",
       "160000    0.000056\n",
       "Length: 390, dtype: float64"
      ]
     },
     "execution_count": 20,
     "metadata": {},
     "output_type": "execute_result"
    }
   ],
   "source": [
    "(returns[long_position]*weight_long_position).sum(axis=1) - (returns[short_position]*weight_short_position).sum(axis=1)"
   ]
  }
 ],
 "metadata": {
  "kernelspec": {
   "display_name": "Python 3",
   "language": "python",
   "name": "python3"
  },
  "language_info": {
   "codemirror_mode": {
    "name": "ipython",
    "version": 3
   },
   "file_extension": ".py",
   "mimetype": "text/x-python",
   "name": "python",
   "nbconvert_exporter": "python",
   "pygments_lexer": "ipython3",
   "version": "3.10.2"
  },
  "orig_nbformat": 4
 },
 "nbformat": 4,
 "nbformat_minor": 2
}
