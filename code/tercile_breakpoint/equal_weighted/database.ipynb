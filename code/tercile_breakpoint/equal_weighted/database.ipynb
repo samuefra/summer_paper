{
 "cells": [
  {
   "cell_type": "markdown",
   "metadata": {},
   "source": [
    "### Base de Dados\n",
    "\n",
    "**Input**: \n",
    "* input/factors/YYYYMMDD.csv - fatores de todas ações listadas na NYSE na frequência de um minuto do dia DD-MM-YYYY.\n",
    "* input/returns/YYYYMMDD.csv - retornos de todas ações listadas na NYSE na frequência de um minuto do dia DD-MM-YYYY.\n",
    "\n",
    "**Output**: \n",
    "* output/data/tercile_breakpoint/equal_weighted/YYYYMMDD.csv - retornos de todas ações listadas na NYSE e portfólios baseado em fatores a partir desses ativos na frequência de um minuto do dia DD-MM-YYYY.\n",
    "\n",
    "O objetivo desse notebook é juntar duas bases de dados, uma contendo dados de retornos das ações e outro contendo os decis de cada ação. A partir desse merge, vamos criar portfólios Equal Weighted dos fatores utilizando os tercis como Breakpoints."
   ]
  },
  {
   "cell_type": "code",
   "execution_count": 1,
   "metadata": {},
   "outputs": [],
   "source": [
    "# pacotes\n",
    "import numpy as np\n",
    "import pandas as pd"
   ]
  },
  {
   "cell_type": "code",
   "execution_count": 2,
   "metadata": {},
   "outputs": [],
   "source": [
    "# oculta mensagens de avisos\n",
    "import warnings\n",
    "warnings.filterwarnings(\"ignore\")"
   ]
  },
  {
   "cell_type": "code",
   "execution_count": 3,
   "metadata": {},
   "outputs": [],
   "source": [
    "# pd.set_option('display.max_columns', None)"
   ]
  },
  {
   "cell_type": "code",
   "execution_count": 4,
   "metadata": {},
   "outputs": [],
   "source": [
    "# pd.set_option('display.max_rows', None)"
   ]
  },
  {
   "cell_type": "markdown",
   "metadata": {},
   "source": [
    "### Functions\n",
    "\n",
    "Como a metodologia para se criar o portfólio é a mesma, isso é, comprado em todos ativos acima da mediana e vendido em todos ativos abaixo da mediana, vamos criar funções que façam isso recebendo a coluna do fator em questão como parâmetro."
   ]
  },
  {
   "cell_type": "code",
   "execution_count": 5,
   "metadata": {},
   "outputs": [],
   "source": [
    "def portfolio_position(col, df_factors, df_returns):\n",
    "    long_position = []      # posição comprado\n",
    "    short_position = []     # posição vendido  \n",
    "\n",
    "    # primeiro, precisamos dropar as linhas tais que tem valor NaN no parâmetro de localidade do fator\n",
    "    temp = df_factors[df_factors[col].notna()]\n",
    "    \"\"\"\n",
    "    Criamos um loop com o critério:\n",
    "    tercil de cima: '7' estritamente ('8' fracamente), então o portfolio assume a posição comprado\n",
    "    tercil de baixo: '4' estritamente ('3' fracamente), então o portfolio assume a posição vendido\n",
    "    \"\"\"\n",
    "    for permno in temp.index:\n",
    "        if temp.loc[permno][col] >= 8:\n",
    "            long_position.append(temp.loc[permno]['TAQ_TICKER'])\n",
    "        elif temp.loc[permno][col] <= 3:\n",
    "            short_position.append(temp.loc[permno]['TAQ_TICKER'])\n",
    "    \"\"\"\n",
    "    agora precisamos criar dois loops, um para cada lista:\n",
    "    o loop deve verificar se o ticker dentro da lista é uma das colunas da base de retornos,\n",
    "    isso é, verifica se temos dados de retornos para essa ação.\n",
    "    \"\"\"\n",
    "\n",
    "    drop_long_position = []\n",
    "    drop_short_position = []\n",
    "\n",
    "    for ticker in long_position:\n",
    "        if ticker not in df_returns.columns:\n",
    "            drop_long_position.append(ticker)\n",
    "\n",
    "    for ticker in drop_long_position:\n",
    "        long_position.remove(ticker)\n",
    "\n",
    "    for ticker in short_position:   \n",
    "        if ticker not in df_returns.columns:\n",
    "            drop_short_position.append(ticker)\n",
    "\n",
    "    for ticker in drop_short_position:\n",
    "        short_position.remove(ticker)\n",
    "\n",
    "    return(long_position, short_position)"
   ]
  },
  {
   "cell_type": "code",
   "execution_count": 6,
   "metadata": {},
   "outputs": [],
   "source": [
    "def portfolio_formation(col, df, df_factors, df_returns):\n",
    "    # usaremos a função portfolio_position() para obtermos as firmas na posição comprada e vendida\n",
    "    long_position, short_position = portfolio_position(col, df_factors, df_returns)\n",
    "    # a nova coluna do fator se chamará:\n",
    "    new_col = col[6].upper() + col[7:] + ' Factor'\n",
    "\n",
    "    \"\"\"\n",
    "    O portfolio é formado subtraindo os retornos médio (equal weighted) das ações em short_position\n",
    "    dos retornos médio (equal weighted) das ações em long_position\n",
    "    \"\"\"\n",
    "    df[new_col] = df_returns[long_position].mean(axis=1) - df_returns[short_position].mean(axis=1)\n",
    "    "
   ]
  },
  {
   "cell_type": "markdown",
   "metadata": {},
   "source": [
    "### Data Generator Loop\n",
    "\n",
    "Esse loop deverá gerar dados diários (um .csv para cada dia) com todos retornos e todos portfolios (para cada fator)."
   ]
  },
  {
   "cell_type": "code",
   "execution_count": 7,
   "metadata": {},
   "outputs": [],
   "source": [
    "# precisamos criar um range de datas para o período de dados que temos\n",
    "bdates = pd.bdate_range('2005-01-01', '2019-12-31')\n",
    "bdates_ = []\n",
    "\n",
    "# precisamos torná-los da maneira que os csv's estão nomeados\n",
    "for date in bdates:\n",
    "    day = str(date)[:4] + str(date)[5:7] + str(date)[8:10]\n",
    "    bdates_.append(day)"
   ]
  },
  {
   "cell_type": "code",
   "execution_count": 8,
   "metadata": {},
   "outputs": [],
   "source": [
    "for day in bdates_:\n",
    "    try:\n",
    "        # factors dataframe\n",
    "        factors_path = f'../../../input/factors/{day}.csv'\n",
    "        factors = pd.read_csv(factors_path, index_col=0)\n",
    "        # precisamos dropar todas ações que não tem TAQ_TICKER, pois é a única variável q conseguimos ligar na outra base\n",
    "        factors = factors[factors['TAQ_TICKER'] != '<undefined>']\n",
    "        \n",
    "        # returns dataframe\n",
    "        returns_path = f'../../../input/returns/{day}.csv'\n",
    "        returns = pd.read_csv(returns_path, index_col=0)\n",
    "        \n",
    "        # criando um dataframe para guardar os portfolios dos fatores\n",
    "        portfolio = pd.DataFrame(index=returns.index)\n",
    "\n",
    "        # agora precisamos fazer o loop que para cada coluna de pNYSE_factors, forma-se um portfolio\n",
    "        pNYSE_factors = factors.columns[4:]\n",
    "        for pNYSE in pNYSE_factors:\n",
    "            portfolio_formation(pNYSE, portfolio, factors, returns)\n",
    "\n",
    "        # precisamos agora fazer a conversão do dataframe para csv\n",
    "        output_path = f'../../../output/data/tercile_breakpoint/equal_weighted/{day}.csv'\n",
    "        portfolio.to_csv(output_path, sep=',', encoding='utf-8')\n",
    "    except:\n",
    "        pass"
   ]
  }
 ],
 "metadata": {
  "kernelspec": {
   "display_name": "Python 3",
   "language": "python",
   "name": "python3"
  },
  "language_info": {
   "codemirror_mode": {
    "name": "ipython",
    "version": 3
   },
   "file_extension": ".py",
   "mimetype": "text/x-python",
   "name": "python",
   "nbconvert_exporter": "python",
   "pygments_lexer": "ipython3",
   "version": "3.10.2"
  },
  "orig_nbformat": 4
 },
 "nbformat": 4,
 "nbformat_minor": 2
}
