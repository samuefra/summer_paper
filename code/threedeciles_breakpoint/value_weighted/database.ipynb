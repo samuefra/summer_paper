{
 "cells": [
  {
   "attachments": {},
   "cell_type": "markdown",
   "metadata": {},
   "source": [
    "### Database\n",
    "\n",
    "**Input**: \n",
    "* input/factors/YYYYMMDD.csv - factor location decile for all NYSE-listed stocks on one-minute frequency of the DD-MM-YYYY day.\n",
    "* input/returns/YYYYMMDD.csv - returns of all NYSE-listed stocks on one-minute frequency of the DD-MM-YYYY day.\n",
    "\n",
    "**Output**: \n",
    "* output/data/threedeciles_breakpoint/value_weighted/YYYYMMDD.csv - portfolios based on factors from NYSE-listed stocks on one-minute frequency of the DD-MM-YYYY day.\n",
    "\n",
    "The purpose of this notebook is to join two databases, one containing data on stock returns and the other containing the factor location deciles of each stock. From this merge, we will create value-weighted portfolios of factors using the three deciles (bottom and top) as breakpoint."
   ]
  },
  {
   "cell_type": "code",
   "execution_count": 18,
   "metadata": {},
   "outputs": [],
   "source": [
    "# packages\n",
    "import numpy as np\n",
    "import pandas as pd"
   ]
  },
  {
   "cell_type": "code",
   "execution_count": 19,
   "metadata": {},
   "outputs": [],
   "source": [
    "# hide warning messages\n",
    "import warnings\n",
    "warnings.filterwarnings(\"ignore\")"
   ]
  },
  {
   "cell_type": "code",
   "execution_count": 20,
   "metadata": {},
   "outputs": [],
   "source": [
    "# pd.set_option('display.max_columns', None)"
   ]
  },
  {
   "cell_type": "code",
   "execution_count": 21,
   "metadata": {},
   "outputs": [],
   "source": [
    "# pd.set_option('display.max_rows', None)"
   ]
  },
  {
   "attachments": {},
   "cell_type": "markdown",
   "metadata": {},
   "source": [
    "### DateRange"
   ]
  },
  {
   "cell_type": "code",
   "execution_count": 22,
   "metadata": {},
   "outputs": [
    {
     "data": {
      "text/plain": [
       "DatetimeIndex(['2005-01-03', '2005-01-04', '2005-01-05', '2005-01-06',\n",
       "               '2005-01-07', '2005-01-10', '2005-01-11', '2005-01-12',\n",
       "               '2005-01-13', '2005-01-14',\n",
       "               ...\n",
       "               '2019-12-17', '2019-12-18', '2019-12-19', '2019-12-20',\n",
       "               '2019-12-23', '2019-12-24', '2019-12-26', '2019-12-27',\n",
       "               '2019-12-30', '2019-12-31'],\n",
       "              dtype='datetime64[ns]', length=3773, freq=None)"
      ]
     },
     "execution_count": 22,
     "metadata": {},
     "output_type": "execute_result"
    }
   ],
   "source": [
    "# getting the daterange in daily frequency to create some dataframes (we're gonna use the marketcap dataset for this)\n",
    "returns_path = '../../../input/returns/daily.parquet'\n",
    "returns = pd.read_parquet(returns_path)\n",
    "daterange = returns.index\n",
    "daterange"
   ]
  },
  {
   "attachments": {},
   "cell_type": "markdown",
   "metadata": {},
   "source": [
    "### Factors"
   ]
  },
  {
   "cell_type": "code",
   "execution_count": 23,
   "metadata": {},
   "outputs": [],
   "source": [
    "# all factors\n",
    "pNYSE_factors = ['pNYSE_size', 'pNYSE_value', 'pNYSE_prof', 'pNYSE_dur', 'pNYSE_valprof', \n",
    "                 'pNYSE_nissa', 'pNYSE_accruals', 'pNYSE_growth', 'pNYSE_aturnover', \n",
    "                 'pNYSE_gmargins', 'pNYSE_divp', 'pNYSE_ep', 'pNYSE_cfp', 'pNYSE_noa', \n",
    "                 'pNYSE_inv', 'pNYSE_invcap', 'pNYSE_igrowth', 'pNYSE_sgrowth', \n",
    "                 'pNYSE_lev', 'pNYSE_roaa', 'pNYSE_roea', 'pNYSE_sp', 'pNYSE_gltnoa', \n",
    "                 'pNYSE_divg', 'pNYSE_invaci', 'pNYSE_mom', 'pNYSE_indmom', 'pNYSE_valmom',\n",
    "                 'pNYSE_valmomprof', 'pNYSE_shortint', 'pNYSE_mom12', 'pNYSE_momrev',\n",
    "                 'pNYSE_lrrev', 'pNYSE_valuem', 'pNYSE_nissm', 'pNYSE_sue', 'pNYSE_roe',\n",
    "                 'pNYSE_rome', 'pNYSE_roa', 'pNYSE_strev', 'pNYSE_ivol', 'pNYSE_betaarb',\n",
    "                 'pNYSE_season', 'pNYSE_indrrev', 'pNYSE_indrrevlv', 'pNYSE_indmomrev',\n",
    "                 'pNYSE_ciss', 'pNYSE_price', 'pNYSE_age', 'pNYSE_shvol',\n",
    "                 'pNYSE_fscore', 'pNYSE_debtiss', 'pNYSE_repurch', 'pNYSE_exchsw', 'pNYSE_ipo']"
   ]
  },
  {
   "attachments": {},
   "cell_type": "markdown",
   "metadata": {},
   "source": [
    "### Functions"
   ]
  },
  {
   "attachments": {},
   "cell_type": "markdown",
   "metadata": {},
   "source": [
    "drop_ticker function: receives two parameters, percentile and df_returns. \n",
    "\n",
    "* percentile is the percentile list (long_position, short_position).\n",
    "* df_returns is the returns dataframe of any trade day.\n",
    "\n",
    "This funtion returns the percentile list with just the ticks that are in the returns dataframe."
   ]
  },
  {
   "cell_type": "code",
   "execution_count": 24,
   "metadata": {},
   "outputs": [],
   "source": [
    "def drop_ticker(percentile, df_returns):\n",
    "    drop_tickers = []\n",
    "    for ticker in percentile:\n",
    "        if ticker not in df_returns.columns:\n",
    "            drop_tickers.append(ticker)\n",
    "    for ticker in drop_tickers:\n",
    "        percentile.remove(ticker)\n",
    "    return percentile"
   ]
  },
  {
   "attachments": {},
   "cell_type": "markdown",
   "metadata": {},
   "source": [
    "portfolio_position function: receives three parameters, col, df_factors and df_returns.\n",
    "\n",
    "* col is the percentile NYSE factor column (pNYSE_size, pNYSE_value, ..., pNYSE_ipo)\n",
    "* df_factors if the factors dataframe of any day.\n",
    "* df_returns is the returns dataframe of any trade day.\n",
    "\n",
    "This funtion returns long_position and short_position lists, each of them has tickers of firms whose are in this respective position and there is its matching column in returns dataframe."
   ]
  },
  {
   "cell_type": "code",
   "execution_count": 25,
   "metadata": {},
   "outputs": [],
   "source": [
    "def portfolio_position(col, df_factors, df_returns):\n",
    "    long_position = []      # stocks whose we're gonna buy\n",
    "    short_position = []     # stocks whose we're gonna sell\n",
    "\n",
    "    # first, we need to drop the rows whose have NaN as decile location factor\n",
    "    temp = df_factors[df_factors[col].notna()]\n",
    "    \"\"\"\n",
    "    We create a loop with the criteria:\n",
    "    top three decile, above '4' strictly ('3' not stricly), then the portfolio assumes long position\n",
    "    bottom three decile, below '7' strictly ('8' not strictly), then the portfolio assumes short position\n",
    "    \"\"\"\n",
    "    for permno in temp.index:\n",
    "        if temp.loc[permno][col] <= 3:\n",
    "            long_position.append(temp['TAQ_TICKER'][permno])\n",
    "        elif temp.loc[permno][col] >= 8:\n",
    "            short_position.append(temp['TAQ_TICKER'][permno])\n",
    "\n",
    "    \"\"\"\n",
    "    Now, we need to use the drop_ticker function.\n",
    "    Thus, we'll have the percentile lists with just the tickers that are in the returns dataframe.\n",
    "    We'll use a loop to pass for all percentile lists\n",
    "    \"\"\"    \n",
    "    \n",
    "    drop_ticker(long_position, df_returns)\n",
    "    drop_ticker(short_position, df_returns)\n",
    "\n",
    "    return(long_position, short_position)"
   ]
  },
  {
   "attachments": {},
   "cell_type": "markdown",
   "metadata": {},
   "source": [
    "value_weight function: receives two parameters, percentile and df_factors.\n",
    "\n",
    "* percentile is the percentile list (long_position, short_position).\n",
    "* df_factors if the factors dataframe of any day.\n",
    "\n",
    "This funtion returns the value weight of the firms in this percentile (they are in the same sequence of the percentile list)."
   ]
  },
  {
   "cell_type": "code",
   "execution_count": 26,
   "metadata": {},
   "outputs": [],
   "source": [
    "def value_weight(percentile, df_factors):\n",
    "    # getting the marketcap value list\n",
    "    marketcap = list(df_factors[df_factors['TAQ_TICKER'].isin(percentile)]['MARKETCAP'].values)\n",
    "    # sum of the marketcaps of this percentile firms\n",
    "    sum_marketcap = sum(marketcap)\n",
    "    # getting the value weight\n",
    "    weight = marketcap/sum_marketcap\n",
    "    return weight"
   ]
  },
  {
   "attachments": {},
   "cell_type": "markdown",
   "metadata": {},
   "source": [
    "portfolio_formation function: receives four parameters, col, df, df_factors, df_returns.\n",
    "\n",
    "* col is the percentile NYSE factor column (pNYSE_size, pNYSE_value, ..., pNYSE_shvol).\n",
    "* df is the factor dataframe which will be filled with the value weighted portfolios.\n",
    "* df_factors if the factors dataframe of any day.\n",
    "* df_returns is the returns dataframe of any trade day.\n",
    "\n",
    "This funtion returns nothing. It just fills the df inputed with portfolio returns."
   ]
  },
  {
   "cell_type": "code",
   "execution_count": 27,
   "metadata": {},
   "outputs": [],
   "source": [
    "def portfolio_formation(col, df, df_factors, df_returns):\n",
    "    # getting the percentile lists from portfolio_decile function\n",
    "    long_position, short_position = portfolio_position(col, df_factors, df_returns)\n",
    "\n",
    "    # the factor column name will be:\n",
    "    new_col = col[6].upper() + col[7:] + ' Factor'\n",
    "\n",
    "    \"\"\"\n",
    "    Now, we'll fill the df (input) dataframe with factor portfolios.\n",
    "    Each factor will be computed by the difference between value weighted portfolio of long_position stocks and value weighted portfolio of short_positioon stocks.\n",
    "    \"\"\"\n",
    "\n",
    "    df[new_col] = (df_returns[long_position]*value_weight(long_position, df_factors)).sum(axis=1) - (df_returns[short_position]*value_weight(short_position, df_factors)).sum(axis=1)"
   ]
  },
  {
   "attachments": {},
   "cell_type": "markdown",
   "metadata": {},
   "source": [
    "n_firms function: receives four parameters, col, df, df_factors, df_returns.\n",
    "\n",
    "* col is the percentile NYSE factor column (pNYSE_size, pNYSE_value, ..., pNYSE_ipo).\n",
    "* df is the number of firms dataframe which will be filled with the number of firms in each position.\n",
    "* df_factors if the factors dataframe of any day.\n",
    "* df_returns is the returns dataframe of any trade day.\n",
    "\n",
    "This funtion returns nothing. It just fills the df inputed with number of firms."
   ]
  },
  {
   "cell_type": "code",
   "execution_count": 28,
   "metadata": {},
   "outputs": [],
   "source": [
    "def n_firms(col, df, date, df_factors, df_returns):\n",
    "    # getting the percentile lists from portfolio_decile function\n",
    "    long_position, short_position = portfolio_position(col, df_factors, df_returns)\n",
    "\n",
    "    \"\"\"\n",
    "    Now, we'll fill the df (input) dataframe with number of firms by percentile.\n",
    "    Each percentile column of df will receive the number of firms in this specified percentile.\n",
    "    \"\"\"\n",
    "\n",
    "    df['Long Position'][date] = len(long_position)\n",
    "    df['Short Position'][date] = len(short_position)"
   ]
  },
  {
   "attachments": {},
   "cell_type": "markdown",
   "metadata": {},
   "source": [
    "### Data Generator Process"
   ]
  },
  {
   "cell_type": "code",
   "execution_count": 29,
   "metadata": {},
   "outputs": [],
   "source": [
    "for date in daterange:\n",
    "    # we need to convert in the csv's names format\n",
    "    day = str(date)[:4] + str(date)[5:7] + str(date)[8:10]\n",
    "    try:\n",
    "        # factors dataframe\n",
    "        factors_path = f'../../../input/factors/{day}.parquet'\n",
    "        factors = pd.read_parquet(factors_path)\n",
    "        \n",
    "        # returns dataframe\n",
    "        returns_path = f'../../../input/returns/{day}.parquet'\n",
    "        returns = pd.read_parquet(returns_path)\n",
    "        \n",
    "        # portfolio returns dataframe\n",
    "        portfolio = pd.DataFrame(index=returns.index)\n",
    "\n",
    "        # a loop filling the portfolio returns dataframes (intradaily)\n",
    "        for pNYSE in pNYSE_factors:\n",
    "            portfolio_formation(pNYSE, portfolio, factors, returns)\n",
    "\n",
    "        # converting portfolio returns dataframes to parquet\n",
    "        output_path = f'../../../output/data/threedeciles_breakpoint/value_weighted/{day}.parquet'\n",
    "        portfolio.to_parquet(output_path)\n",
    "    except:\n",
    "        pass"
   ]
  },
  {
   "cell_type": "code",
   "execution_count": null,
   "metadata": {},
   "outputs": [],
   "source": [
    "pNYSE = pNYSE_factors[0]"
   ]
  },
  {
   "cell_type": "code",
   "execution_count": null,
   "metadata": {},
   "outputs": [],
   "source": [
    "n10 = pd.DataFrame(index=daterange, columns=['Long Position', 'Short Position'])\n",
    "for date in daterange:\n",
    "    # we need to convert in the csv's names format\n",
    "    day = str(date)[:4] + str(date)[5:7] + str(date)[8:10]\n",
    "    try:\n",
    "        # factors dataframe\n",
    "        factors_path = f'../../../input/factors/{day}.parquet'\n",
    "        factors = pd.read_parquet(factors_path)\n",
    "        \n",
    "        # returns dataframe\n",
    "        returns_path = f'../../../input/returns/{day}.parquet'\n",
    "        returns = pd.read_parquet(returns_path)\n",
    "        \n",
    "        # filling the number of firms dataframes (daily)\n",
    "        n_firms(pNYSE, n10, date, factors, returns)\n",
    "    except:\n",
    "        pass"
   ]
  },
  {
   "cell_type": "code",
   "execution_count": null,
   "metadata": {},
   "outputs": [
    {
     "data": {
      "text/html": [
       "<div>\n",
       "<style scoped>\n",
       "    .dataframe tbody tr th:only-of-type {\n",
       "        vertical-align: middle;\n",
       "    }\n",
       "\n",
       "    .dataframe tbody tr th {\n",
       "        vertical-align: top;\n",
       "    }\n",
       "\n",
       "    .dataframe thead th {\n",
       "        text-align: right;\n",
       "    }\n",
       "</style>\n",
       "<table border=\"1\" class=\"dataframe\">\n",
       "  <thead>\n",
       "    <tr style=\"text-align: right;\">\n",
       "      <th></th>\n",
       "      <th>Long Position</th>\n",
       "      <th>Short Position</th>\n",
       "    </tr>\n",
       "  </thead>\n",
       "  <tbody>\n",
       "    <tr>\n",
       "      <th>2005-01-03</th>\n",
       "      <td>2960</td>\n",
       "      <td>526</td>\n",
       "    </tr>\n",
       "    <tr>\n",
       "      <th>2005-01-04</th>\n",
       "      <td>2936</td>\n",
       "      <td>526</td>\n",
       "    </tr>\n",
       "    <tr>\n",
       "      <th>2005-01-05</th>\n",
       "      <td>2919</td>\n",
       "      <td>526</td>\n",
       "    </tr>\n",
       "    <tr>\n",
       "      <th>2005-01-06</th>\n",
       "      <td>2893</td>\n",
       "      <td>526</td>\n",
       "    </tr>\n",
       "    <tr>\n",
       "      <th>2005-01-07</th>\n",
       "      <td>2885</td>\n",
       "      <td>526</td>\n",
       "    </tr>\n",
       "    <tr>\n",
       "      <th>...</th>\n",
       "      <td>...</td>\n",
       "      <td>...</td>\n",
       "    </tr>\n",
       "    <tr>\n",
       "      <th>2019-12-24</th>\n",
       "      <td>1913</td>\n",
       "      <td>536</td>\n",
       "    </tr>\n",
       "    <tr>\n",
       "      <th>2019-12-26</th>\n",
       "      <td>1908</td>\n",
       "      <td>536</td>\n",
       "    </tr>\n",
       "    <tr>\n",
       "      <th>2019-12-27</th>\n",
       "      <td>1919</td>\n",
       "      <td>536</td>\n",
       "    </tr>\n",
       "    <tr>\n",
       "      <th>2019-12-30</th>\n",
       "      <td>1926</td>\n",
       "      <td>536</td>\n",
       "    </tr>\n",
       "    <tr>\n",
       "      <th>2019-12-31</th>\n",
       "      <td>1924</td>\n",
       "      <td>536</td>\n",
       "    </tr>\n",
       "  </tbody>\n",
       "</table>\n",
       "<p>3773 rows × 2 columns</p>\n",
       "</div>"
      ],
      "text/plain": [
       "           Long Position Short Position\n",
       "2005-01-03          2960            526\n",
       "2005-01-04          2936            526\n",
       "2005-01-05          2919            526\n",
       "2005-01-06          2893            526\n",
       "2005-01-07          2885            526\n",
       "...                  ...            ...\n",
       "2019-12-24          1913            536\n",
       "2019-12-26          1908            536\n",
       "2019-12-27          1919            536\n",
       "2019-12-30          1926            536\n",
       "2019-12-31          1924            536\n",
       "\n",
       "[3773 rows x 2 columns]"
      ]
     },
     "execution_count": 17,
     "metadata": {},
     "output_type": "execute_result"
    }
   ],
   "source": [
    "n10"
   ]
  }
 ],
 "metadata": {
  "kernelspec": {
   "display_name": "Python 3",
   "language": "python",
   "name": "python3"
  },
  "language_info": {
   "codemirror_mode": {
    "name": "ipython",
    "version": 3
   },
   "file_extension": ".py",
   "mimetype": "text/x-python",
   "name": "python",
   "nbconvert_exporter": "python",
   "pygments_lexer": "ipython3",
   "version": "3.10.2"
  },
  "orig_nbformat": 4,
  "vscode": {
   "interpreter": {
    "hash": "c63d8c7d738c2960218a10995aedf0a7f67a49a231e71037adf0440953cdb45b"
   }
  }
 },
 "nbformat": 4,
 "nbformat_minor": 2
}
